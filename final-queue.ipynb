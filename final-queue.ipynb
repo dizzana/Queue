{
 "cells": [
  {
   "cell_type": "code",
   "execution_count": 10,
   "id": "b2e8d279-86ba-435c-a6d3-89f0f765e7a3",
   "metadata": {},
   "outputs": [
    {
     "name": "stdout",
     "output_type": "stream",
     "text": [
      "Add to queue\n",
      "Queue: ['Accessories', 'Outerwear', 'Tops', 'Bottoms']\n",
      "Pop from queue\n",
      "Pop: Accessories\n",
      "Queue: ['Outerwear', 'Tops', 'Bottoms']\n"
     ]
    }
   ],
   "source": [
    "# 1 Creating queue from Python's import library\n",
    "import queue\n",
    "\n",
    "# 2 Creating object for the queue \n",
    "queueObject = queue.Queue()\n",
    "\n",
    "# 3 Adding elements to the queue\n",
    "print('Add to queue')\n",
    "queueObject.put('Accessories')\n",
    "queueObject.put('Outerwear')\n",
    "queueObject.put('Tops')\n",
    "queueObject.put('Bottoms')\n",
    "print(\"Queue:\", list(queueObject.queue))\n",
    "\n",
    "# 4 Popping an element from the queue\n",
    "print('Pop from queue')\n",
    "popElement = queueObject.get()\n",
    "print(f'Pop: {popElement}')\n",
    "print(\"Queue:\", list(queueObject.queue))"
   ]
  },
  {
   "cell_type": "code",
   "execution_count": null,
   "id": "bb39f24e-dade-4fed-b813-c488c71523be",
   "metadata": {},
   "outputs": [],
   "source": []
  }
 ],
 "metadata": {
  "kernelspec": {
   "display_name": "Python 3 (ipykernel)",
   "language": "python",
   "name": "python3"
  },
  "language_info": {
   "codemirror_mode": {
    "name": "ipython",
    "version": 3
   },
   "file_extension": ".py",
   "mimetype": "text/x-python",
   "name": "python",
   "nbconvert_exporter": "python",
   "pygments_lexer": "ipython3",
   "version": "3.11.7"
  }
 },
 "nbformat": 4,
 "nbformat_minor": 5
}
