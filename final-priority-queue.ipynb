{
 "cells": [
  {
   "cell_type": "code",
   "execution_count": 5,
   "id": "29579ee4-00b4-41ce-afbd-781cfb4d7a2e",
   "metadata": {},
   "outputs": [
    {
     "name": "stdout",
     "output_type": "stream",
     "text": [
      "Add to queue\n",
      "Queue: [(1, 'Outerwear'), (2, 'Accessories')]\n",
      "Pop from queue\n",
      "Pop item priority: 1\n",
      "Pop item: Outerwear\n",
      "Queue: [(2, 'Accessories')]\n"
     ]
    }
   ],
   "source": [
    "# 1 Creating queue from Python's import library\n",
    "import queue\n",
    "\n",
    "# 2 Creating object for the priority queue\n",
    "priorityQueueObject = queue.PriorityQueue()\n",
    "\n",
    "# 3 Adding elements to the priority queue\n",
    "print('Add to queue')\n",
    "priorityQueueObject.put((2, \"Accessories\"))\n",
    "priorityQueueObject.put((1, \"Outerwear\"))\n",
    "print(\"Queue:\", list(priorityQueueObject.queue))\n",
    "\n",
    "# 4 Popping an element from the priority queue\n",
    "print('Pop from queue')\n",
    "popElement = priorityQueueObject.get()\n",
    "print(f'Pop item priority: {popElement[0]}')\n",
    "print(f'Pop item: {popElement[1]}')\n",
    "print(\"Queue:\", list(priorityQueueObject.queue))\n"
   ]
  },
  {
   "cell_type": "code",
   "execution_count": null,
   "id": "82d20ca2-37dd-490c-b9a1-330cde2ae99f",
   "metadata": {},
   "outputs": [],
   "source": []
  }
 ],
 "metadata": {
  "kernelspec": {
   "display_name": "Python 3 (ipykernel)",
   "language": "python",
   "name": "python3"
  },
  "language_info": {
   "codemirror_mode": {
    "name": "ipython",
    "version": 3
   },
   "file_extension": ".py",
   "mimetype": "text/x-python",
   "name": "python",
   "nbconvert_exporter": "python",
   "pygments_lexer": "ipython3",
   "version": "3.11.7"
  }
 },
 "nbformat": 4,
 "nbformat_minor": 5
}
